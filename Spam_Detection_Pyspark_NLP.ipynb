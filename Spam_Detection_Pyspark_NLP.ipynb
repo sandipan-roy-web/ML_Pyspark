{
  "nbformat": 4,
  "nbformat_minor": 0,
  "metadata": {
    "colab": {
      "provenance": []
    },
    "kernelspec": {
      "name": "python3",
      "display_name": "Python 3"
    },
    "language_info": {
      "name": "python"
    }
  },
  "cells": [
    {
      "cell_type": "code",
      "execution_count": 1,
      "metadata": {
        "colab": {
          "base_uri": "https://localhost:8080/"
        },
        "id": "WeEUAsqa-zrX",
        "outputId": "f133a386-cd87-4cd7-bc4e-3c08075ad601"
      },
      "outputs": [
        {
          "output_type": "stream",
          "name": "stdout",
          "text": [
            "Collecting Pyspark\n",
            "  Downloading pyspark-3.4.1.tar.gz (310.8 MB)\n",
            "\u001b[2K     \u001b[90m━━━━━━━━━━━━━━━━━━━━━━━━━━━━━━━━━━━━━━━\u001b[0m \u001b[32m310.8/310.8 MB\u001b[0m \u001b[31m3.3 MB/s\u001b[0m eta \u001b[36m0:00:00\u001b[0m\n",
            "\u001b[?25h  Preparing metadata (setup.py) ... \u001b[?25l\u001b[?25hdone\n",
            "Requirement already satisfied: py4j==0.10.9.7 in /usr/local/lib/python3.10/dist-packages (from Pyspark) (0.10.9.7)\n",
            "Building wheels for collected packages: Pyspark\n",
            "  Building wheel for Pyspark (setup.py) ... \u001b[?25l\u001b[?25hdone\n",
            "  Created wheel for Pyspark: filename=pyspark-3.4.1-py2.py3-none-any.whl size=311285398 sha256=36580ef203c38cb390f5071268922f8c9060bc69d96ebf2e566c50eb3a709f0b\n",
            "  Stored in directory: /root/.cache/pip/wheels/0d/77/a3/ff2f74cc9ab41f8f594dabf0579c2a7c6de920d584206e0834\n",
            "Successfully built Pyspark\n",
            "Installing collected packages: Pyspark\n",
            "Successfully installed Pyspark-3.4.1\n"
          ]
        }
      ],
      "source": [
        "pip install Pyspark"
      ]
    },
    {
      "cell_type": "code",
      "source": [
        "from pyspark.sql import SparkSession"
      ],
      "metadata": {
        "id": "31ZgsXBd-783"
      },
      "execution_count": 2,
      "outputs": []
    },
    {
      "cell_type": "code",
      "source": [
        "spark = SparkSession.builder.appName('NLP').getOrCreate()"
      ],
      "metadata": {
        "id": "zTLOu0SP_wL1"
      },
      "execution_count": 3,
      "outputs": []
    },
    {
      "cell_type": "code",
      "source": [
        "data = spark.read.csv('SMSSpamCollection',inferSchema =True,sep='\\t' )\n",
        "data.show()"
      ],
      "metadata": {
        "colab": {
          "base_uri": "https://localhost:8080/"
        },
        "id": "zRBREGCJ_2y7",
        "outputId": "746af482-c459-46a5-e953-2fc8bde64388"
      },
      "execution_count": 7,
      "outputs": [
        {
          "output_type": "stream",
          "name": "stdout",
          "text": [
            "+----+--------------------+\n",
            "| _c0|                 _c1|\n",
            "+----+--------------------+\n",
            "| ham|Go until jurong p...|\n",
            "| ham|Ok lar... Joking ...|\n",
            "|spam|Free entry in 2 a...|\n",
            "| ham|U dun say so earl...|\n",
            "| ham|Nah I don't think...|\n",
            "|spam|FreeMsg Hey there...|\n",
            "| ham|Even my brother i...|\n",
            "| ham|As per your reque...|\n",
            "|spam|WINNER!! As a val...|\n",
            "|spam|Had your mobile 1...|\n",
            "| ham|I'm gonna be home...|\n",
            "|spam|SIX chances to wi...|\n",
            "|spam|URGENT! You have ...|\n",
            "| ham|I've been searchi...|\n",
            "| ham|I HAVE A DATE ON ...|\n",
            "|spam|XXXMobileMovieClu...|\n",
            "| ham|Oh k...i'm watchi...|\n",
            "| ham|Eh u remember how...|\n",
            "| ham|Fine if thats th...|\n",
            "|spam|England v Macedon...|\n",
            "+----+--------------------+\n",
            "only showing top 20 rows\n",
            "\n"
          ]
        }
      ]
    },
    {
      "cell_type": "code",
      "source": [
        "#renaming column headers\n",
        "data = data.withColumnRenamed('_c0','class').withColumnRenamed('_c1','text')"
      ],
      "metadata": {
        "id": "SfKVqZLWAiDR"
      },
      "execution_count": 8,
      "outputs": []
    },
    {
      "cell_type": "code",
      "source": [
        "data.show()"
      ],
      "metadata": {
        "colab": {
          "base_uri": "https://localhost:8080/"
        },
        "id": "KGH7aebKBF8f",
        "outputId": "8fb5ba95-609b-45b5-c427-c930c567bbcf"
      },
      "execution_count": 9,
      "outputs": [
        {
          "output_type": "stream",
          "name": "stdout",
          "text": [
            "+-----+--------------------+\n",
            "|class|                text|\n",
            "+-----+--------------------+\n",
            "|  ham|Go until jurong p...|\n",
            "|  ham|Ok lar... Joking ...|\n",
            "| spam|Free entry in 2 a...|\n",
            "|  ham|U dun say so earl...|\n",
            "|  ham|Nah I don't think...|\n",
            "| spam|FreeMsg Hey there...|\n",
            "|  ham|Even my brother i...|\n",
            "|  ham|As per your reque...|\n",
            "| spam|WINNER!! As a val...|\n",
            "| spam|Had your mobile 1...|\n",
            "|  ham|I'm gonna be home...|\n",
            "| spam|SIX chances to wi...|\n",
            "| spam|URGENT! You have ...|\n",
            "|  ham|I've been searchi...|\n",
            "|  ham|I HAVE A DATE ON ...|\n",
            "| spam|XXXMobileMovieClu...|\n",
            "|  ham|Oh k...i'm watchi...|\n",
            "|  ham|Eh u remember how...|\n",
            "|  ham|Fine if thats th...|\n",
            "| spam|England v Macedon...|\n",
            "+-----+--------------------+\n",
            "only showing top 20 rows\n",
            "\n"
          ]
        }
      ]
    },
    {
      "cell_type": "code",
      "source": [
        "from pyspark.sql.functions import length"
      ],
      "metadata": {
        "id": "PeSh-JhrBHXi"
      },
      "execution_count": 10,
      "outputs": []
    },
    {
      "cell_type": "code",
      "source": [
        "data = data.withColumn('length',length(data['text']))"
      ],
      "metadata": {
        "id": "bn20vta4QKGP"
      },
      "execution_count": 11,
      "outputs": []
    },
    {
      "cell_type": "code",
      "source": [
        "data.show()"
      ],
      "metadata": {
        "colab": {
          "base_uri": "https://localhost:8080/"
        },
        "id": "xDv21zOfQVHs",
        "outputId": "ca324815-cca9-4cc5-a953-713a166403e0"
      },
      "execution_count": 12,
      "outputs": [
        {
          "output_type": "stream",
          "name": "stdout",
          "text": [
            "+-----+--------------------+------+\n",
            "|class|                text|length|\n",
            "+-----+--------------------+------+\n",
            "|  ham|Go until jurong p...|   111|\n",
            "|  ham|Ok lar... Joking ...|    29|\n",
            "| spam|Free entry in 2 a...|   155|\n",
            "|  ham|U dun say so earl...|    49|\n",
            "|  ham|Nah I don't think...|    61|\n",
            "| spam|FreeMsg Hey there...|   147|\n",
            "|  ham|Even my brother i...|    77|\n",
            "|  ham|As per your reque...|   160|\n",
            "| spam|WINNER!! As a val...|   157|\n",
            "| spam|Had your mobile 1...|   154|\n",
            "|  ham|I'm gonna be home...|   109|\n",
            "| spam|SIX chances to wi...|   136|\n",
            "| spam|URGENT! You have ...|   155|\n",
            "|  ham|I've been searchi...|   196|\n",
            "|  ham|I HAVE A DATE ON ...|    35|\n",
            "| spam|XXXMobileMovieClu...|   149|\n",
            "|  ham|Oh k...i'm watchi...|    26|\n",
            "|  ham|Eh u remember how...|    81|\n",
            "|  ham|Fine if thats th...|    56|\n",
            "| spam|England v Macedon...|   155|\n",
            "+-----+--------------------+------+\n",
            "only showing top 20 rows\n",
            "\n"
          ]
        }
      ]
    },
    {
      "cell_type": "code",
      "source": [
        "data.groupBy('class').mean().show()"
      ],
      "metadata": {
        "colab": {
          "base_uri": "https://localhost:8080/"
        },
        "id": "K_TmiYOjQWPJ",
        "outputId": "bdcb4ddd-14fb-42f5-a9f1-f40fc3001cbc"
      },
      "execution_count": 13,
      "outputs": [
        {
          "output_type": "stream",
          "name": "stdout",
          "text": [
            "+-----+-----------------+\n",
            "|class|      avg(length)|\n",
            "+-----+-----------------+\n",
            "|  ham|71.45431945307645|\n",
            "| spam|138.6706827309237|\n",
            "+-----+-----------------+\n",
            "\n"
          ]
        }
      ]
    },
    {
      "cell_type": "code",
      "source": [
        "### Feature transformations\n",
        "from pyspark.ml.feature import Tokenizer,StopWordsRemover,CountVectorizer,IDF,StringIndexer"
      ],
      "metadata": {
        "id": "EK-yD87_Qbnh"
      },
      "execution_count": 17,
      "outputs": []
    },
    {
      "cell_type": "code",
      "source": [
        "tokenizer=Tokenizer(inputCol='text',outputCol = 'token_text')\n",
        "stop_remove =StopWordsRemover(inputCol='token_text',outputCol = 'stop_tokens')\n",
        "count_vec = CountVectorizer(inputCol = 'stop_tokens',outputCol = 'c_vec')\n",
        "idf = IDF(inputCol='c_vec',outputCol =\"tf-idf\")\n",
        "ham_spam_num = StringIndexer(inputCol='class',outputCol= 'label')"
      ],
      "metadata": {
        "id": "bWiNJLGxRQuv"
      },
      "execution_count": 44,
      "outputs": []
    },
    {
      "cell_type": "code",
      "source": [
        "from pyspark.ml.feature import VectorAssembler"
      ],
      "metadata": {
        "id": "IbBlGCiMSF8N"
      },
      "execution_count": 45,
      "outputs": []
    },
    {
      "cell_type": "code",
      "source": [
        "clean_data = VectorAssembler(inputCols=['tf-idf','length'],outputCol='features')"
      ],
      "metadata": {
        "id": "iNYwNkZGSgFH"
      },
      "execution_count": 46,
      "outputs": []
    },
    {
      "cell_type": "code",
      "source": [
        "from pyspark.ml.classification import   NaiveBayes"
      ],
      "metadata": {
        "id": "l7ozCnBhSxU5"
      },
      "execution_count": 47,
      "outputs": []
    },
    {
      "cell_type": "code",
      "source": [
        "nb= NaiveBayes()"
      ],
      "metadata": {
        "id": "fTsOVXxzS_QY"
      },
      "execution_count": 48,
      "outputs": []
    },
    {
      "cell_type": "code",
      "source": [
        "#creating a pipeline\n",
        "from pyspark.ml import Pipeline\n",
        "data_pipeline = Pipeline(stages=[ham_spam_num,tokenizer,stop_remove,count_vec,idf,clean_data])"
      ],
      "metadata": {
        "id": "ljxy685aT7rd"
      },
      "execution_count": 49,
      "outputs": []
    },
    {
      "cell_type": "code",
      "source": [
        "cleaned_data =data_pipeline.fit(data)"
      ],
      "metadata": {
        "id": "jnrBlPLMUa5Y"
      },
      "execution_count": 50,
      "outputs": []
    },
    {
      "cell_type": "code",
      "source": [
        "use_data =cleaned_data.transform(data)"
      ],
      "metadata": {
        "id": "ZSrAEt8nUg5i"
      },
      "execution_count": 51,
      "outputs": []
    },
    {
      "cell_type": "code",
      "source": [
        "\n",
        "use_data = use_data.select(['label','features'])\n",
        "use_data.show()"
      ],
      "metadata": {
        "colab": {
          "base_uri": "https://localhost:8080/"
        },
        "id": "OvATf3RpUuf9",
        "outputId": "dc5521bb-3c09-4be9-99b3-1a0f8422f70d"
      },
      "execution_count": 53,
      "outputs": [
        {
          "output_type": "stream",
          "name": "stdout",
          "text": [
            "+-----+--------------------+\n",
            "|label|            features|\n",
            "+-----+--------------------+\n",
            "|  0.0|(13424,[7,11,31,6...|\n",
            "|  0.0|(13424,[0,24,301,...|\n",
            "|  1.0|(13424,[2,13,19,3...|\n",
            "|  0.0|(13424,[0,70,80,1...|\n",
            "|  0.0|(13424,[36,134,31...|\n",
            "|  1.0|(13424,[10,60,140...|\n",
            "|  0.0|(13424,[10,53,102...|\n",
            "|  0.0|(13424,[127,185,4...|\n",
            "|  1.0|(13424,[1,47,121,...|\n",
            "|  1.0|(13424,[0,1,13,27...|\n",
            "|  0.0|(13424,[18,43,117...|\n",
            "|  1.0|(13424,[8,16,37,8...|\n",
            "|  1.0|(13424,[13,30,47,...|\n",
            "|  0.0|(13424,[39,95,221...|\n",
            "|  0.0|(13424,[555,1797,...|\n",
            "|  1.0|(13424,[30,109,11...|\n",
            "|  0.0|(13424,[82,214,44...|\n",
            "|  0.0|(13424,[0,2,49,13...|\n",
            "|  0.0|(13424,[0,74,105,...|\n",
            "|  1.0|(13424,[4,30,33,5...|\n",
            "+-----+--------------------+\n",
            "only showing top 20 rows\n",
            "\n"
          ]
        }
      ]
    },
    {
      "cell_type": "code",
      "source": [
        "#split the data to train and test\n",
        "\n",
        "train_data,test_data = use_data.randomSplit([0.8,0.2])"
      ],
      "metadata": {
        "id": "t1RJPfdIU9gl"
      },
      "execution_count": 54,
      "outputs": []
    },
    {
      "cell_type": "code",
      "source": [
        "spam_predictor = nb.fit(train_data)"
      ],
      "metadata": {
        "id": "kb_ZyONsVcqP"
      },
      "execution_count": 55,
      "outputs": []
    },
    {
      "cell_type": "code",
      "source": [
        "test_results = spam_predictor.transform(test_data)"
      ],
      "metadata": {
        "id": "cDzarXjyVj90"
      },
      "execution_count": 57,
      "outputs": []
    },
    {
      "cell_type": "code",
      "source": [
        "test_results.show()"
      ],
      "metadata": {
        "colab": {
          "base_uri": "https://localhost:8080/"
        },
        "id": "PBFcSpsTWKlx",
        "outputId": "9d7e86ea-4883-4008-f9db-2eeda633a8bd"
      },
      "execution_count": 58,
      "outputs": [
        {
          "output_type": "stream",
          "name": "stdout",
          "text": [
            "+-----+--------------------+--------------------+--------------------+----------+\n",
            "|label|            features|       rawPrediction|         probability|prediction|\n",
            "+-----+--------------------+--------------------+--------------------+----------+\n",
            "|  0.0|(13424,[0,1,11,32...|[-870.52096378121...|[1.0,3.8539942315...|       0.0|\n",
            "|  0.0|(13424,[0,1,12,33...|[-442.06209958453...|[1.0,3.6381952821...|       0.0|\n",
            "|  0.0|(13424,[0,1,14,79...|[-694.46641364281...|[1.0,2.3930887574...|       0.0|\n",
            "|  0.0|(13424,[0,1,21,27...|[-1015.0741658846...|[1.0,5.5810260184...|       0.0|\n",
            "|  0.0|(13424,[0,1,23,63...|[-1301.3335624219...|[1.0,3.1179887826...|       0.0|\n",
            "|  0.0|(13424,[0,1,27,35...|[-1496.5701027401...|[0.99999432364669...|       0.0|\n",
            "|  0.0|(13424,[0,1,30,11...|[-612.00675815439...|[1.0,2.2448243411...|       0.0|\n",
            "|  0.0|(13424,[0,1,71,10...|[-675.78195333716...|[1.0,1.1803181417...|       0.0|\n",
            "|  0.0|(13424,[0,1,150,1...|[-256.81391789962...|[0.02138861144006...|       1.0|\n",
            "|  0.0|(13424,[0,1,428,6...|[-299.07711676402...|[1.0,2.9815029800...|       0.0|\n",
            "|  0.0|(13424,[0,2,4,5,1...|[-2511.0490637615...|[1.0,1.5486352257...|       0.0|\n",
            "|  0.0|(13424,[0,2,4,10,...|[-1221.4619110552...|[1.0,1.1375354586...|       0.0|\n",
            "|  0.0|(13424,[0,2,4,11,...|[-1142.6827510007...|[1.0,3.4808686158...|       0.0|\n",
            "|  0.0|(13424,[0,2,4,128...|[-640.87610732559...|[1.0,6.5539138717...|       0.0|\n",
            "|  0.0|(13424,[0,2,7,8,1...|[-697.72561908737...|[1.0,8.2670337841...|       0.0|\n",
            "|  0.0|(13424,[0,2,7,8,3...|[-1145.6062627203...|[1.0,2.1856649367...|       0.0|\n",
            "|  0.0|(13424,[0,2,7,11,...|[-1422.5041102862...|[1.0,1.1916588935...|       0.0|\n",
            "|  0.0|(13424,[0,2,8,20,...|[-809.37018731944...|[1.0,2.8135882667...|       0.0|\n",
            "|  0.0|(13424,[0,2,8,27,...|[-1425.4547464586...|[0.99999999968479...|       0.0|\n",
            "|  0.0|(13424,[0,2,14,24...|[-429.41599207952...|[0.99999999999997...|       0.0|\n",
            "+-----+--------------------+--------------------+--------------------+----------+\n",
            "only showing top 20 rows\n",
            "\n"
          ]
        }
      ]
    },
    {
      "cell_type": "code",
      "source": [
        "from pyspark.ml.evaluation import MulticlassClassificationEvaluator"
      ],
      "metadata": {
        "id": "COnUTZH4WQj5"
      },
      "execution_count": 59,
      "outputs": []
    },
    {
      "cell_type": "code",
      "source": [
        "acc_eval = MulticlassClassificationEvaluator()\n",
        "acc = acc_eval.evaluate(test_results)\n",
        "print(\"Accuracy of model at predicting spam was: {}\".format(acc))"
      ],
      "metadata": {
        "colab": {
          "base_uri": "https://localhost:8080/"
        },
        "id": "H1d98k-xXHW-",
        "outputId": "74768983-0c5e-4329-eb84-fb33d81aac77"
      },
      "execution_count": 60,
      "outputs": [
        {
          "output_type": "stream",
          "name": "stdout",
          "text": [
            "Accuracy of model at predicting spam was: 0.9280082661195318\n"
          ]
        }
      ]
    }
  ]
}